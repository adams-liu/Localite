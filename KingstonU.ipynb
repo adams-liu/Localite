{
 "cells": [
  {
   "cell_type": "markdown",
   "metadata": {},
   "source": [
    "## Localite Kingston Utilities Project"
   ]
  },
  {
   "cell_type": "code",
   "execution_count": 2,
   "metadata": {},
   "outputs": [],
   "source": [
    "#Importing Libraries\n",
    "import pandas as pd"
   ]
  },
  {
   "cell_type": "code",
   "execution_count": 65,
   "metadata": {},
   "outputs": [],
   "source": [
    "#Creating a list of all .csv files\n",
    "lsReports = [\"Electric-2016-Apr.csv\",\"electric-2016-Aug.csv\",\"Electric-2016-Dec.csv\",\"electric-2016-Feb.csv\",\"electric-2016-Jan.csv\",\"Electric-2016-Jul.csv\",\"Electric-2016-Jun.csv\",\"electric-2016-Mar.csv\",\"Electric-2016-May.csv\",\"Electric-2016-Nov.csv\",\"electric-2016-Oct.csv\",\"electric-2016-Sep.csv\"]\n",
    "lsReports1 = [\"Electric-2016-Apr.csv\",\"electric-2016-Aug.csv\"]\n",
    "lsMonthes = [\"Apr\",\"Aug\",\"Dec\",\"Feb\",\"Jan\",\"Jul\",\"Jun\",\"Mar\",\"May\",\"Nov\",\"Oct\",\"Sep\"]\n",
    "\n",
    "#We will need to create DataFrames to be able to find so interesting datapoints \n",
    "lsMax = pd.DataFrame()\n",
    "lsZeros= pd.DataFrame()\n",
    "lsLess = pd.DataFrame()"
   ]
  },
  {
   "cell_type": "code",
   "execution_count": null,
   "metadata": {},
   "outputs": [],
   "source": [
    "#we get the sum of all the monthes with unique ServiceIDs and covert them to .csv files\n",
    "i = 0\n",
    "for files in lsReports:\n",
    "    df = pd.read_csv(files)\n",
    "    df = df.sort_values(by='KWH',ascending=False)\n",
    "    lsMax = lsMax.append(df.head(50))\n",
    "    lsLess = lsLess.append(df[df.KWH < 0])\n",
    "    lsZeros = lsZeros.append(df[df.KWH == 0])\n",
    "    df2 = df[[\"SERVICEID\",\"KWH\"]].groupby([\"SERVICEID\"]).sum().to_csv(\"KWH_Report_\" +lsMonthes[i]+\".csv\")\n",
    "    i+=1 "
   ]
  },
  {
   "cell_type": "code",
   "execution_count": null,
   "metadata": {},
   "outputs": [],
   "source": [
    "#Have a seperate .csv for KWH_Max(top 50 KWH/month), KWH_LESS(all negative KWH), KWH_Zeros(all KWH that were zeros)\n",
    "lsMax.to_csv(\"KWH_Max.csv\")\n",
    "lsZeros.to_csv(\"KWH_Zeros.csv\")\n",
    "lsLess.to_csv(\"KWH_Less.csv\")"
   ]
  },
  {
   "cell_type": "code",
   "execution_count": null,
   "metadata": {},
   "outputs": [],
   "source": [
    "## Merging meters to get postal code files \n",
    "meters = pd.read_csv(\"meters.csv\")\n",
    "spCode = pd.read_csv(\"ServicePostalCode.csv\")\n",
    "metersNew = pd.merge(meters,spCode,left_on=['USDP_ID'],right_on=['service ID'])\n",
    "metersNew.columns.values[0] = \"SERVICEID\" \n",
    "del metersNew[\"service ID\"]\n",
    "metersNew"
   ]
  },
  {
   "cell_type": "code",
   "execution_count": 106,
   "metadata": {},
   "outputs": [],
   "source": [
    "## Created the YYYY-MM-DD-HH attributes for the dataframe for both the start-date and end-date\n",
    "\n",
    "metersNew['START_YEAR'] = pd.DatetimeIndex(metersNew['EFFECTIVE_DATE']).year\n",
    "metersNew['START_MONTH'] = pd.DatetimeIndex(metersNew['EFFECTIVE_DATE']).month\n",
    "metersNew['START_DAY'] = pd.DatetimeIndex(metersNew['EFFECTIVE_DATE']).day\n",
    "metersNew['START_HOUR'] = pd.DatetimeIndex(metersNew['EFFECTIVE_DATE']).hour\n",
    "metersNew['END_YEAR'] = pd.DatetimeIndex(metersNew['END_DATE']).year\n",
    "metersNew['END_MONTH'] = pd.DatetimeIndex(metersNew['END_DATE']).month\n",
    "metersNew['END_DAY'] = pd.DatetimeIndex(metersNew['END_DATE']).day\n",
    "metersNew['END_HOUR'] = pd.DatetimeIndex(metersNew['END_DATE']).hour\n",
    "metersNew\n",
    "\n",
    "new_columns = [\"SERVICEID\",\"EQUIPMENT_NUMBER\",\"EFFECTIVE_DATE\",\n",
    "               \"START_YEAR\",\"START_MONTH\",\"START_DAY\",\"START_HOUR\",\n",
    "               \"END_DATE\",\"END_YEAR\",\"END_MONTH\",\"END_DAY\",\"END_HOUR\",\n",
    "              \"DaysDiff\",\"postal code\"]\n",
    "\n",
    "\n",
    "metersNew = metersNew.reindex(columns=new_columns)\n",
    "metersNew.columns.values[12] = \"DAYS_DIFF\" \n",
    "metersNew.columns.values[13] = \"POSTCODE\" \n",
    "metersNew\n",
    "metersNew.to_csv(\"metersNew.csv\")"
   ]
  }
 ],
 "metadata": {
  "kernelspec": {
   "display_name": "Python 3",
   "language": "python",
   "name": "python3"
  },
  "language_info": {
   "codemirror_mode": {
    "name": "ipython",
    "version": 3
   },
   "file_extension": ".py",
   "mimetype": "text/x-python",
   "name": "python",
   "nbconvert_exporter": "python",
   "pygments_lexer": "ipython3",
   "version": "3.7.4"
  }
 },
 "nbformat": 4,
 "nbformat_minor": 4
}
